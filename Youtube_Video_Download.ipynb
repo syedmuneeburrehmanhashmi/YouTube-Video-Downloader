{
 "cells": [
  {
   "cell_type": "markdown",
   "metadata": {},
   "source": [
    "# Import tkinter and pytube"
   ]
  },
  {
   "cell_type": "code",
   "execution_count": 1,
   "metadata": {},
   "outputs": [],
   "source": [
    "import tkinter as tk\n",
    "from tkinter import *\n",
    "from pytube import YouTube\n",
    "from tkinter import filedialog, messagebox"
   ]
  },
  {
   "cell_type": "markdown",
   "metadata": {},
   "source": [
    "# Create the main layout"
   ]
  },
  {
   "cell_type": "code",
   "execution_count": 2,
   "metadata": {},
   "outputs": [],
   "source": [
    "def CreateWidget():\n",
    "    link_label = tk.Label(root, text = \"YouTube link here: \", bg= \"skyblue\", font=(\"Helvetica\", 10))\n",
    "    link_label.grid(row= 1, column = 0, pady= 5, padx= 5)\n",
    "    root.link_text = tk.Entry(root, width= 65)\n",
    "    root.link_text.grid(row= 1, column= 1, pady= 5, padx= 5, columnspan=2)\n",
    "    destination_label = tk.Label(root, text= \"Save Destination: \", bg= \"skyblue\", font= (\"Helvetica\", 10))\n",
    "    destination_label.grid(row=2, column=0, pady=5, padx=5)\n",
    "    root.destination_text = tk.Entry(root, width= 50)\n",
    "    root.destination_text.grid(row=2, column=1, pady=5, padx=5)\n",
    "    browse_button = tk.Button(root, text=\"Browse\", bg=\"black\", fg=\"white\", command= Browse, width= 10)\n",
    "    browse_button.grid(row=2, column=2, pady=5, padx=5)\n",
    "    download_button = tk.Button(root, text=\"Download\", bg=\"black\", fg=\"white\", command= Download, width=10)\n",
    "    download_button.grid(row=3, column=1, pady=5, padx=5)"
   ]
  },
  {
   "cell_type": "markdown",
   "metadata": {},
   "source": [
    "# Create an event for browsing destination file"
   ]
  },
  {
   "cell_type": "code",
   "execution_count": 3,
   "metadata": {},
   "outputs": [],
   "source": [
    "def Browse():\n",
    "    root.destination_directory = filedialog.askdirectory(initialdir=\"/home/muneeb/Downloads\", title=\"Select Destination\")\n",
    "    root.destination_text.insert(root.destination_directory)"
   ]
  },
  {
   "cell_type": "markdown",
   "metadata": {},
   "source": [
    "# Create an event to download the given link"
   ]
  },
  {
   "cell_type": "code",
   "execution_count": 4,
   "metadata": {},
   "outputs": [],
   "source": [
    "def Download():\n",
    "    destination_directory = root.destination_text.get()\n",
    "    video_link = YouTube(root.link_text.get())\n",
    "    video_stream = video_link.streams.first()\n",
    "    video_stream.download(destination_directory)\n",
    "    \n",
    "    messagebox.showinfo(\"SUCCESS\", \"Video Downloaded in\\n\" + destination_directory)"
   ]
  },
  {
   "cell_type": "code",
   "execution_count": 5,
   "metadata": {},
   "outputs": [],
   "source": [
    "root = tk.Tk()\n",
    "root.geometry(\"620x110+380+200\")\n",
    "root.title(\"Youtube Video Downloader\")\n",
    "root.resizable(False, False)\n",
    "root.config(background= \"skyblue\")\n",
    "root.wm_iconbitmap(bitmap=\"@logo.xbm\")\n",
    "CreateWidget()\n",
    "\n",
    "root.mainloop()"
   ]
  },
  {
   "cell_type": "code",
   "execution_count": null,
   "metadata": {},
   "outputs": [],
   "source": []
  }
 ],
 "metadata": {
  "kernelspec": {
   "display_name": "Python 3",
   "language": "python",
   "name": "python3"
  },
  "language_info": {
   "codemirror_mode": {
    "name": "ipython",
    "version": 3
   },
   "file_extension": ".py",
   "mimetype": "text/x-python",
   "name": "python",
   "nbconvert_exporter": "python",
   "pygments_lexer": "ipython3",
   "version": "3.7.3"
  }
 },
 "nbformat": 4,
 "nbformat_minor": 2
}
